{
 "cells": [
  {
   "cell_type": "code",
   "execution_count": 1,
   "id": "58ebe189",
   "metadata": {},
   "outputs": [
    {
     "name": "stderr",
     "output_type": "stream",
     "text": [
      "c:\\Users\\GameDesign\\AppData\\Local\\Programs\\Python\\Python39\\lib\\site-packages\\cupy\\_environment.py:215: UserWarning: CUDA path could not be detected. Set CUDA_PATH environment variable if CuPy fails to load.\n",
      "  warnings.warn(\n"
     ]
    }
   ],
   "source": [
    "import sys\n",
    "import os\n",
    "\n",
    "# 获取当前工作目录\n",
    "current_dir = os.getcwd()\n",
    "\n",
    "# 获取父目录（即 python_dir）\n",
    "project_dir = os.path.dirname(current_dir)\n",
    "sys.path.append(project_dir)\n",
    "\n",
    "\n",
    "import numpy as np\n",
    "import cupy as cp\n",
    "import trytorch as torch\n",
    "import trytorch.ops as ops\n",
    "import trytorch.nn as nn\n",
    "import trytorch.optim as optim\n",
    "import trytorch.datas as data\n",
    "from trytorch.array_device import *"
   ]
  },
  {
   "cell_type": "code",
   "execution_count": 2,
   "id": "17639ffd",
   "metadata": {},
   "outputs": [],
   "source": [
    "class SimpleResNet(nn.Module):\n",
    "    def __init__(self, device=None, dtype=\"float32\"):\n",
    "        super().__init__()\n",
    "        self.block1 = nn.ConvBN(1, 16, 7, 4, device=device, dtype=dtype)\n",
    "        self.block2 = nn.ConvBN(16, 32, 3, 2, device=device, dtype=dtype)\n",
    "        self.res1 = nn.Residual(\n",
    "            nn.Sequential(\n",
    "                nn.ConvBN(32, 32, 3, 1, device=device, dtype=dtype),\n",
    "                nn.ConvBN(32, 32, 3, 1, device=device, dtype=dtype)\n",
    "            )\n",
    "        )\n",
    "        self.block3 = nn.ConvBN(32, 64, 3, 2, device=device, dtype=dtype)\n",
    "        self.flatten = nn.Flatten()\n",
    "        self.linear1 = nn.Linear(64 * 2 * 2, 256, device=device, dtype=dtype)\n",
    "        self.relu = nn.ReLU()\n",
    "        self.drop = nn.Dropout(0.4)\n",
    "        self.linear2 = nn.Linear(256, 10, device=device, dtype=dtype)\n",
    "\n",
    "    def forward(self, x):\n",
    "        x = self.block1(x)\n",
    "        x = self.block2(x)\n",
    "        x = self.res1(x)\n",
    "        x = self.block3(x)\n",
    "        x = self.flatten(x)\n",
    "        x = self.linear1(x)\n",
    "        x = self.relu(x)\n",
    "        x = self.drop(x)\n",
    "        x = self.linear2(x)\n",
    "        return x"
   ]
  },
  {
   "cell_type": "code",
   "execution_count": 3,
   "id": "437a5d5a",
   "metadata": {},
   "outputs": [],
   "source": [
    "batch_size=256\n",
    "epochs=20\n",
    "net = SimpleResNet(device=cpu())\n",
    "optimizer=optim.Adam(net.parameters(),lr=0.001,weight_decay=0.001)\n",
    "criterion= nn.SoftmaxLoss()"
   ]
  },
  {
   "cell_type": "markdown",
   "id": "baaffee0",
   "metadata": {},
   "source": [
    "### 测试模型是否能够正向计算"
   ]
  },
  {
   "cell_type": "code",
   "execution_count": 4,
   "id": "eb50c96e",
   "metadata": {},
   "outputs": [],
   "source": [
    "# #测试跑通模型\n",
    "# np.random.seed(42)\n",
    "# x_array = np.random.rand(1,1,32,32)\n",
    "# x = torch.Tensor(x_array)\n",
    "# x.to('cpu')\n",
    "# y = net(x)\n",
    "# print(y)\n",
    "# y.backward()"
   ]
  },
  {
   "cell_type": "code",
   "execution_count": 5,
   "id": "b9edd7b0",
   "metadata": {},
   "outputs": [
    {
     "name": "stdout",
     "output_type": "stream",
     "text": [
      "d:\\AIExperienments\\TryTorch\n"
     ]
    }
   ],
   "source": [
    "from pathlib import Path\n",
    "from trytorch.datas import DataLoader\n",
    "from trytorch.datas.datasets import SVHNDataset\n",
    "from trytorch.datas.data_transform import *\n",
    "\n",
    "project_path = Path(project_dir)\n",
    "print(project_path)\n",
    "\n",
    "train_dataset = SVHNDataset(\n",
    "    file = project_path / \"data\" / \"SVHN\" / \"train_data.mat\",\n",
    "    transforms = [RandomCrop()]\n",
    ")\n",
    "\n",
    "train_dataloader = DataLoader(\n",
    "    dataset = train_dataset,\n",
    "    batch_size = batch_size,\n",
    "    shuffle = True\n",
    ")\n",
    "\n",
    "test_dataset = SVHNDataset(\n",
    "    project_path / \"data\" / \"SVHN\" / \"test_data.mat\",\n",
    ")\n",
    "\n",
    "test_dataloader = data.DataLoader(\n",
    "    dataset = test_dataset,\n",
    "    batch_size = batch_size,\n",
    "    shuffle = True\n",
    ")"
   ]
  },
  {
   "cell_type": "code",
   "execution_count": 9,
   "id": "4ee80ade",
   "metadata": {},
   "outputs": [
    {
     "name": "stdout",
     "output_type": "stream",
     "text": [
      "73257 26032\n"
     ]
    },
    {
     "data": {
      "text/plain": [
       "(287, 102)"
      ]
     },
     "execution_count": 9,
     "metadata": {},
     "output_type": "execute_result"
    }
   ],
   "source": [
    "# import matplotlib.pyplot as plt\n",
    "\n",
    "# # 显示数据集\n",
    "\n",
    "# img, label = train_dataset[42]\n",
    "\n",
    "# type(img), type(label)\n",
    "# # 因为是 (1, 28, 28)，需要 squeeze 去掉 channel 维度\n",
    "# plt.imshow(img.squeeze())\n",
    "# plt.title(f\"Label: {label}\")\n",
    "# plt.axis(\"off\")\n",
    "# plt.show()\n",
    "# 显示数据集\n",
    "print(len(train_dataset), len(test_dataset))\n",
    "# 显示数据加载器\n",
    "len(train_dataloader), len(test_dataloader)"
   ]
  },
  {
   "cell_type": "code",
   "execution_count": 11,
   "id": "4d2306bd",
   "metadata": {},
   "outputs": [
    {
     "name": "stderr",
     "output_type": "stream",
     "text": [
      "Epoch 1/20: 100%|██████████| 287/287 [02:01<00:00,  2.36batch/s, loss=1.0641, acc=0.6547]\n"
     ]
    },
    {
     "name": "stdout",
     "output_type": "stream",
     "text": [
      "EPOCH 0: avg_accuracy=0.6547360661779762, avg_loss=1.06411538023901\n"
     ]
    },
    {
     "name": "stderr",
     "output_type": "stream",
     "text": [
      "Epoch 2/20: 100%|██████████| 287/287 [02:00<00:00,  2.37batch/s, loss=0.8502, acc=0.7271]\n"
     ]
    },
    {
     "name": "stdout",
     "output_type": "stream",
     "text": [
      "EPOCH 1: avg_accuracy=0.7271114023233275, avg_loss=0.8501540264003344\n"
     ]
    },
    {
     "name": "stderr",
     "output_type": "stream",
     "text": [
      "Epoch 3/20: 100%|██████████| 287/287 [02:01<00:00,  2.37batch/s, loss=0.7348, acc=0.7679]\n"
     ]
    },
    {
     "name": "stdout",
     "output_type": "stream",
     "text": [
      "EPOCH 2: avg_accuracy=0.7678720122309131, avg_loss=0.7348087468075564\n"
     ]
    },
    {
     "name": "stderr",
     "output_type": "stream",
     "text": [
      "Epoch 4/20: 100%|██████████| 287/287 [02:01<00:00,  2.35batch/s, loss=0.6556, acc=0.7931]\n"
     ]
    },
    {
     "name": "stdout",
     "output_type": "stream",
     "text": [
      "EPOCH 3: avg_accuracy=0.7930982704724463, avg_loss=0.6556249274427153\n"
     ]
    },
    {
     "name": "stderr",
     "output_type": "stream",
     "text": [
      "Epoch 5/20: 100%|██████████| 287/287 [02:02<00:00,  2.34batch/s, loss=0.6028, acc=0.8091]\n"
     ]
    },
    {
     "name": "stdout",
     "output_type": "stream",
     "text": [
      "EPOCH 4: avg_accuracy=0.8091240427535935, avg_loss=0.6028050439750916\n"
     ]
    },
    {
     "name": "stderr",
     "output_type": "stream",
     "text": [
      "Epoch 6/20: 100%|██████████| 287/287 [02:07<00:00,  2.26batch/s, loss=0.5707, acc=0.8220]\n"
     ]
    },
    {
     "name": "stdout",
     "output_type": "stream",
     "text": [
      "EPOCH 5: avg_accuracy=0.8219555810366245, avg_loss=0.5706947777782184\n"
     ]
    },
    {
     "name": "stderr",
     "output_type": "stream",
     "text": [
      "Epoch 7/20: 100%|██████████| 287/287 [02:05<00:00,  2.29batch/s, loss=0.5352, acc=0.8340]\n"
     ]
    },
    {
     "name": "stdout",
     "output_type": "stream",
     "text": [
      "EPOCH 6: avg_accuracy=0.8340090366790887, avg_loss=0.535189157540488\n"
     ]
    },
    {
     "name": "stderr",
     "output_type": "stream",
     "text": [
      "Epoch 8/20: 100%|██████████| 287/287 [02:02<00:00,  2.34batch/s, loss=0.5125, acc=0.8386]\n"
     ]
    },
    {
     "name": "stdout",
     "output_type": "stream",
     "text": [
      "EPOCH 7: avg_accuracy=0.8386229302319232, avg_loss=0.512535637697603\n"
     ]
    },
    {
     "name": "stderr",
     "output_type": "stream",
     "text": [
      "Epoch 9/20: 100%|██████████| 287/287 [02:03<00:00,  2.33batch/s, loss=0.4913, acc=0.8462]\n"
     ]
    },
    {
     "name": "stdout",
     "output_type": "stream",
     "text": [
      "EPOCH 8: avg_accuracy=0.8461716969026851, avg_loss=0.49133031483937073\n"
     ]
    },
    {
     "name": "stderr",
     "output_type": "stream",
     "text": [
      "Epoch 10/20: 100%|██████████| 287/287 [02:03<00:00,  2.33batch/s, loss=0.4655, acc=0.8549]\n"
     ]
    },
    {
     "name": "stdout",
     "output_type": "stream",
     "text": [
      "EPOCH 9: avg_accuracy=0.8549490151111839, avg_loss=0.46551619647763737\n"
     ]
    },
    {
     "name": "stderr",
     "output_type": "stream",
     "text": [
      "Epoch 11/20: 100%|██████████| 287/287 [02:03<00:00,  2.33batch/s, loss=0.4581, acc=0.8562]\n"
     ]
    },
    {
     "name": "stdout",
     "output_type": "stream",
     "text": [
      "EPOCH 10: avg_accuracy=0.856177566648921, avg_loss=0.4581027388841347\n"
     ]
    },
    {
     "name": "stderr",
     "output_type": "stream",
     "text": [
      "Epoch 12/20: 100%|██████████| 287/287 [02:03<00:00,  2.33batch/s, loss=0.4389, acc=0.8640]\n"
     ]
    },
    {
     "name": "stdout",
     "output_type": "stream",
     "text": [
      "EPOCH 11: avg_accuracy=0.8639856941998717, avg_loss=0.4389104466578955\n"
     ]
    },
    {
     "name": "stderr",
     "output_type": "stream",
     "text": [
      "Epoch 13/20: 100%|██████████| 287/287 [02:02<00:00,  2.33batch/s, loss=0.4304, acc=0.8671]\n"
     ]
    },
    {
     "name": "stdout",
     "output_type": "stream",
     "text": [
      "EPOCH 12: avg_accuracy=0.8671116753347803, avg_loss=0.4304345804794977\n"
     ]
    },
    {
     "name": "stderr",
     "output_type": "stream",
     "text": [
      "Epoch 14/20: 100%|██████████| 287/287 [02:02<00:00,  2.33batch/s, loss=0.4212, acc=0.8688]\n"
     ]
    },
    {
     "name": "stdout",
     "output_type": "stream",
     "text": [
      "EPOCH 13: avg_accuracy=0.8688043463423291, avg_loss=0.4212249885916868\n"
     ]
    },
    {
     "name": "stderr",
     "output_type": "stream",
     "text": [
      "Epoch 15/20: 100%|██████████| 287/287 [02:05<00:00,  2.30batch/s, loss=0.4008, acc=0.8771]\n"
     ]
    },
    {
     "name": "stdout",
     "output_type": "stream",
     "text": [
      "EPOCH 14: avg_accuracy=0.8771311956536577, avg_loss=0.4007576113858574\n"
     ]
    },
    {
     "name": "stderr",
     "output_type": "stream",
     "text": [
      "Epoch 16/20: 100%|██████████| 287/287 [02:04<00:00,  2.30batch/s, loss=0.4048, acc=0.8745]\n"
     ]
    },
    {
     "name": "stdout",
     "output_type": "stream",
     "text": [
      "EPOCH 15: avg_accuracy=0.8744829845612023, avg_loss=0.4048198843666092\n"
     ]
    },
    {
     "name": "stderr",
     "output_type": "stream",
     "text": [
      "Epoch 17/20: 100%|██████████| 287/287 [02:05<00:00,  2.28batch/s, loss=0.4022, acc=0.8762]\n"
     ]
    },
    {
     "name": "stdout",
     "output_type": "stream",
     "text": [
      "EPOCH 16: avg_accuracy=0.8762439084319588, avg_loss=0.4022395106575674\n"
     ]
    },
    {
     "name": "stderr",
     "output_type": "stream",
     "text": [
      "Epoch 18/20: 100%|██████████| 287/287 [02:05<00:00,  2.29batch/s, loss=0.3919, acc=0.8794]\n"
     ]
    },
    {
     "name": "stdout",
     "output_type": "stream",
     "text": [
      "EPOCH 17: avg_accuracy=0.8794244918574334, avg_loss=0.39188964081752636\n"
     ]
    },
    {
     "name": "stderr",
     "output_type": "stream",
     "text": [
      "Epoch 19/20: 100%|██████████| 287/287 [02:05<00:00,  2.29batch/s, loss=0.3815, acc=0.8820]\n"
     ]
    },
    {
     "name": "stdout",
     "output_type": "stream",
     "text": [
      "EPOCH 18: avg_accuracy=0.8820181006593226, avg_loss=0.38150427633164435\n"
     ]
    },
    {
     "name": "stderr",
     "output_type": "stream",
     "text": [
      "Epoch 20/20: 100%|██████████| 287/287 [02:05<00:00,  2.29batch/s, loss=0.3815, acc=0.8826]"
     ]
    },
    {
     "name": "stdout",
     "output_type": "stream",
     "text": [
      "EPOCH 19: avg_accuracy=0.8826187258555497, avg_loss=0.38148129807163617\n"
     ]
    },
    {
     "name": "stderr",
     "output_type": "stream",
     "text": [
      "\n"
     ]
    }
   ],
   "source": [
    "from tqdm import tqdm\n",
    "\n",
    "for epoch in range(epochs):\n",
    "    total_loss = 0\n",
    "    total_rights = 0\n",
    "    total_examples = 0\n",
    "    total_batches = 0\n",
    "    step = 0;\n",
    "\n",
    "    # 创建训练进度条\n",
    "    train_bar = tqdm(train_dataloader, desc=f'Epoch {epoch+1}/{epochs}', unit='batch')\n",
    "\n",
    "    for inputs, label in train_bar:\n",
    "\n",
    "        net.train()\n",
    "        \n",
    "        optimizer.reset_grad()\n",
    "\n",
    "        pred = net(inputs)\n",
    "\n",
    "        loss = criterion(pred, label)\n",
    "\n",
    "        loss.backward()\n",
    "\n",
    "        optimizer.step()\n",
    "        # (batch, features) -> (batch, 1)\n",
    "        label_pred = np.argmax(pred.numpy(), axis = 1)\n",
    "\n",
    "        rights = np.equal(label_pred, label.numpy()).sum()\n",
    "\n",
    "        total_loss += loss.numpy()\n",
    "        total_rights += rights\n",
    "        total_batches += 1\n",
    "        total_examples += inputs.shape[0]\n",
    "\n",
    "        # 实时更新进度条信息\n",
    "        avg_loss_so_far = total_loss / total_batches\n",
    "        avg_accuracy_so_far = total_rights / total_examples\n",
    "        \n",
    "        # 更新进度条描述\n",
    "        train_bar.set_postfix({\n",
    "            'loss': f'{avg_loss_so_far:.4f}',\n",
    "            'acc': f'{avg_accuracy_so_far:.4f}'\n",
    "        })\n",
    "\n",
    "    avg_loss = total_loss / total_batches\n",
    "    avg_accuracy = total_rights / total_examples\n",
    "    print(f\"EPOCH {epoch}: {avg_accuracy=}, {avg_loss=}\")\n",
    "\n"
   ]
  }
 ],
 "metadata": {
  "kernelspec": {
   "display_name": "Python 3",
   "language": "python",
   "name": "python3"
  },
  "language_info": {
   "codemirror_mode": {
    "name": "ipython",
    "version": 3
   },
   "file_extension": ".py",
   "mimetype": "text/x-python",
   "name": "python",
   "nbconvert_exporter": "python",
   "pygments_lexer": "ipython3",
   "version": "3.9.0"
  }
 },
 "nbformat": 4,
 "nbformat_minor": 5
}
