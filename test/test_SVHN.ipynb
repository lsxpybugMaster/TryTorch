{
 "cells": [
  {
   "cell_type": "code",
   "execution_count": 5,
   "id": "58ebe189",
   "metadata": {},
   "outputs": [],
   "source": [
    "import sys\n",
    "import os\n",
    "\n",
    "# 获取当前工作目录\n",
    "current_dir = os.getcwd()\n",
    "\n",
    "# 获取父目录（即 python_dir）\n",
    "project_dir = os.path.dirname(current_dir)\n",
    "sys.path.append(project_dir)\n",
    "\n",
    "\n",
    "import numpy as np\n",
    "import cupy as cp\n",
    "import trytorch as torch\n",
    "import trytorch.ops as ops\n",
    "import trytorch.nn as nn\n",
    "import trytorch.optim as optim\n",
    "import trytorch.datas as data\n",
    "from trytorch.array_device import *"
   ]
  },
  {
   "cell_type": "code",
   "execution_count": 6,
   "id": "17639ffd",
   "metadata": {},
   "outputs": [],
   "source": [
    "class SimpleResNet(nn.Module):\n",
    "    def __init__(self, device=None, dtype=\"float32\"):\n",
    "        super().__init__()\n",
    "        self.block1 = nn.ConvBN(1, 16, 7, 4, device=device, dtype=dtype)\n",
    "        self.block2 = nn.ConvBN(16, 32, 3, 2, device=device, dtype=dtype)\n",
    "        self.res1 = nn.Residual(\n",
    "            nn.Sequential(\n",
    "                nn.ConvBN(32, 32, 3, 1, device=device, dtype=dtype),\n",
    "                nn.ConvBN(32, 32, 3, 1, device=device, dtype=dtype)\n",
    "            )\n",
    "        )\n",
    "        self.block3 = nn.ConvBN(32, 64, 3, 2, device=device, dtype=dtype)\n",
    "        self.flatten = nn.Flatten()\n",
    "        self.linear1 = nn.Linear(64 * 2 * 2, 256, device=device, dtype=dtype)\n",
    "        self.relu = nn.ReLU()\n",
    "        self.drop = nn.Dropout(0.4)\n",
    "        self.linear2 = nn.Linear(256, 10, device=device, dtype=dtype)\n",
    "\n",
    "    def forward(self, x):\n",
    "        x = self.block1(x)\n",
    "        x = self.block2(x)\n",
    "        x = self.res1(x)\n",
    "        x = self.block3(x)\n",
    "        x = self.flatten(x)\n",
    "        x = self.linear1(x)\n",
    "        x = self.relu(x)\n",
    "        x = self.drop(x)\n",
    "        x = self.linear2(x)\n",
    "        return x"
   ]
  },
  {
   "cell_type": "code",
   "execution_count": 7,
   "id": "437a5d5a",
   "metadata": {},
   "outputs": [],
   "source": [
    "batch_size=256\n",
    "epochs=20\n",
    "net = SimpleResNet(device=cpu())\n",
    "optimizer=optim.Adam(net.parameters(),lr=0.001,weight_decay=0.001)\n",
    "criterion= nn.SoftmaxLoss()"
   ]
  },
  {
   "cell_type": "markdown",
   "id": "baaffee0",
   "metadata": {},
   "source": [
    "### 测试模型是否能够正向计算"
   ]
  },
  {
   "cell_type": "code",
   "execution_count": 8,
   "id": "eb50c96e",
   "metadata": {},
   "outputs": [
    {
     "data": {
      "text/plain": [
       "tensor([[ 2.05167669  0.5062783  -1.19929996  0.40338946  1.04257181 -0.42037018\n",
       "  -0.62244584 -1.08543943  2.4519655   2.37690865]], dtpye=float64)"
      ]
     },
     "execution_count": 8,
     "metadata": {},
     "output_type": "execute_result"
    }
   ],
   "source": [
    "#测试跑通模型\n",
    "x_array = np.random.rand(1,1,28,28)\n",
    "x = torch.Tensor(x_array)\n",
    "x.to('cpu')\n",
    "net(x)"
   ]
  },
  {
   "cell_type": "code",
   "execution_count": 9,
   "id": "b9edd7b0",
   "metadata": {},
   "outputs": [
    {
     "name": "stdout",
     "output_type": "stream",
     "text": [
      "d:\\AIExperienments\\TryTorch\n"
     ]
    }
   ],
   "source": [
    "from pathlib import Path\n",
    "\n",
    "project_path = Path(project_dir)\n",
    "print(project_path)\n",
    "\n",
    "# 训练数据集\n",
    "train_dataset = data.MNISTDataset(\n",
    "    project_path / \"data\" / \"MNIST\" / \"train-images-idx3-ubyte.gz\",\n",
    "    project_path / \"data\" / \"MNIST\" / \"train-labels-idx1-ubyte.gz\"\n",
    ")\n",
    "\n",
    "train_dataloader = data.DataLoader(\n",
    "    dataset=train_dataset,\n",
    "    batch_size=batch_size,\n",
    "    shuffle=True\n",
    ")\n",
    "\n",
    "test_dataset = data.MNISTDataset(\n",
    "    project_path / \"data\" / \"MNIST\" / \"t10k-images-idx3-ubyte.gz\",\n",
    "    project_path / \"data\" / \"MNIST\" / \"t10k-labels-idx1-ubyte.gz\"\n",
    ")\n",
    "\n",
    "test_dataloader = data.DataLoader(\n",
    "    dataset = test_dataset,\n",
    "    batch_size=batch_size,\n",
    "    shuffle=True\n",
    ")"
   ]
  },
  {
   "cell_type": "code",
   "execution_count": 10,
   "id": "4d2306bd",
   "metadata": {},
   "outputs": [
    {
     "ename": "ValueError",
     "evalue": "cannot reshape array of size 65536 into shape (1,64)",
     "output_type": "error",
     "traceback": [
      "\u001b[1;31m---------------------------------------------------------------------------\u001b[0m",
      "\u001b[1;31mValueError\u001b[0m                                Traceback (most recent call last)",
      "Input \u001b[1;32mIn [10]\u001b[0m, in \u001b[0;36m<cell line: 1>\u001b[1;34m()\u001b[0m\n\u001b[0;32m     12\u001b[0m pred \u001b[38;5;241m=\u001b[39m net(inputs)\n\u001b[0;32m     14\u001b[0m loss \u001b[38;5;241m=\u001b[39m criterion(pred, label)\n\u001b[1;32m---> 16\u001b[0m \u001b[43mloss\u001b[49m\u001b[38;5;241;43m.\u001b[39;49m\u001b[43mbackward\u001b[49m\u001b[43m(\u001b[49m\u001b[43m)\u001b[49m\n\u001b[0;32m     18\u001b[0m optimizer\u001b[38;5;241m.\u001b[39mstep()\n\u001b[0;32m     19\u001b[0m \u001b[38;5;66;03m# (batch, features) -> (batch, 1)\u001b[39;00m\n",
      "File \u001b[1;32md:\\AIExperienments\\TryTorch\\trytorch\\autograd.py:411\u001b[0m, in \u001b[0;36mTensor.backward\u001b[1;34m(self, out_grad)\u001b[0m\n\u001b[0;32m    407\u001b[0m     out_grad \u001b[38;5;241m=\u001b[39m init\u001b[38;5;241m.\u001b[39mones(\n\u001b[0;32m    408\u001b[0m         \u001b[38;5;241m*\u001b[39m\u001b[38;5;28mself\u001b[39m\u001b[38;5;241m.\u001b[39mshape, dtype \u001b[38;5;241m=\u001b[39m \u001b[38;5;28mself\u001b[39m\u001b[38;5;241m.\u001b[39mdtype, device \u001b[38;5;241m=\u001b[39m \u001b[38;5;28mself\u001b[39m\u001b[38;5;241m.\u001b[39mdevice\n\u001b[0;32m    409\u001b[0m     )\n\u001b[0;32m    410\u001b[0m \u001b[38;5;66;03m# 进行反向传播\u001b[39;00m\n\u001b[1;32m--> 411\u001b[0m \u001b[43mcompute_gradient_of_variables\u001b[49m\u001b[43m(\u001b[49m\u001b[38;5;28;43mself\u001b[39;49m\u001b[43m,\u001b[49m\u001b[43m \u001b[49m\u001b[43mout_grad\u001b[49m\u001b[43m)\u001b[49m\n",
      "File \u001b[1;32md:\\AIExperienments\\TryTorch\\trytorch\\autograd.py:453\u001b[0m, in \u001b[0;36mcompute_gradient_of_variables\u001b[1;34m(output_tensor, out_grad)\u001b[0m\n\u001b[0;32m    442\u001b[0m \u001b[38;5;124;03m'''\u001b[39;00m\n\u001b[0;32m    443\u001b[0m \u001b[38;5;124;03m  🤗 最终的梯度反向传播\u001b[39;00m\n\u001b[0;32m    444\u001b[0m \u001b[38;5;124;03m  \u001b[39;00m\n\u001b[1;32m   (...)\u001b[0m\n\u001b[0;32m    450\u001b[0m \u001b[38;5;124;03m      则返回gradv1 = grad , gradv2 = grad 并记录至字典\u001b[39;00m\n\u001b[0;32m    451\u001b[0m \u001b[38;5;124;03m'''\u001b[39;00m\n\u001b[0;32m    452\u001b[0m \u001b[38;5;66;03m# 按上面的例子为 [grad, grad]\u001b[39;00m\n\u001b[1;32m--> 453\u001b[0m partial_vk_to_i_list \u001b[38;5;241m=\u001b[39m \u001b[43mnode_i\u001b[49m\u001b[38;5;241;43m.\u001b[39;49m\u001b[43mop\u001b[49m\u001b[38;5;241;43m.\u001b[39;49m\u001b[43mgradient_as_tuple\u001b[49m\u001b[43m(\u001b[49m\u001b[43mnode_i\u001b[49m\u001b[38;5;241;43m.\u001b[39;49m\u001b[43mgrad\u001b[49m\u001b[43m,\u001b[49m\u001b[43m \u001b[49m\u001b[43mnode_i\u001b[49m\u001b[43m)\u001b[49m\n\u001b[0;32m    455\u001b[0m \u001b[38;5;66;03m# 填入字典\u001b[39;00m\n\u001b[0;32m    456\u001b[0m \u001b[38;5;28;01mfor\u001b[39;00m node_k, partial_vk_to_i \u001b[38;5;129;01min\u001b[39;00m \u001b[38;5;28mzip\u001b[39m(node_i\u001b[38;5;241m.\u001b[39minputs, partial_vk_to_i_list):\n\u001b[0;32m    457\u001b[0m     \u001b[38;5;66;03m# 🐍 Python 字典不会自动创建不存在的键\u001b[39;00m\n",
      "File \u001b[1;32md:\\AIExperienments\\TryTorch\\trytorch\\autograd.py:61\u001b[0m, in \u001b[0;36mOp.gradient_as_tuple\u001b[1;34m(self, out_grad, node)\u001b[0m\n\u001b[0;32m     59\u001b[0m \u001b[38;5;28;01mdef\u001b[39;00m \u001b[38;5;21mgradient_as_tuple\u001b[39m(\u001b[38;5;28mself\u001b[39m, out_grad: \u001b[38;5;124m\"\u001b[39m\u001b[38;5;124mValue\u001b[39m\u001b[38;5;124m\"\u001b[39m, node: \u001b[38;5;124m\"\u001b[39m\u001b[38;5;124mValue\u001b[39m\u001b[38;5;124m\"\u001b[39m) \u001b[38;5;241m-\u001b[39m\u001b[38;5;241m>\u001b[39m Tuple[\u001b[38;5;124m\"\u001b[39m\u001b[38;5;124mValue\u001b[39m\u001b[38;5;124m\"\u001b[39m]:\n\u001b[0;32m     60\u001b[0m     \u001b[38;5;66;03m# 不是元组需要打包成元组\u001b[39;00m\n\u001b[1;32m---> 61\u001b[0m     output \u001b[38;5;241m=\u001b[39m \u001b[38;5;28;43mself\u001b[39;49m\u001b[38;5;241;43m.\u001b[39;49m\u001b[43mgradient\u001b[49m\u001b[43m(\u001b[49m\u001b[43mout_grad\u001b[49m\u001b[43m,\u001b[49m\u001b[43mnode\u001b[49m\u001b[43m)\u001b[49m\n\u001b[0;32m     62\u001b[0m     \u001b[38;5;28;01mif\u001b[39;00m \u001b[38;5;28misinstance\u001b[39m(output,\u001b[38;5;28mtuple\u001b[39m):\n\u001b[0;32m     63\u001b[0m         \u001b[38;5;28;01mreturn\u001b[39;00m output\n",
      "File \u001b[1;32md:\\AIExperienments\\TryTorch\\trytorch\\ops\\ops.py:317\u001b[0m, in \u001b[0;36mSummation.gradient\u001b[1;34m(self, out_grad, node)\u001b[0m\n\u001b[0;32m    314\u001b[0m     final_shape \u001b[38;5;241m=\u001b[39m [\u001b[38;5;241m1\u001b[39m \u001b[38;5;28;01mfor\u001b[39;00m _ \u001b[38;5;129;01min\u001b[39;00m \u001b[38;5;28mrange\u001b[39m(\u001b[38;5;28mlen\u001b[39m(final_shape))]\n\u001b[0;32m    316\u001b[0m \u001b[38;5;66;03m# 完成形状转换\u001b[39;00m\n\u001b[1;32m--> 317\u001b[0m out_grad \u001b[38;5;241m=\u001b[39m \u001b[43mreshape\u001b[49m\u001b[43m(\u001b[49m\u001b[43mout_grad\u001b[49m\u001b[43m,\u001b[49m\u001b[43m \u001b[49m\u001b[43mfinal_shape\u001b[49m\u001b[43m)\u001b[49m\n\u001b[0;32m    319\u001b[0m \u001b[38;5;66;03m# 广播grad\u001b[39;00m\n\u001b[0;32m    320\u001b[0m \u001b[38;5;66;03m# e.g. [g1, g2] * [1  1  1] = [g1 g1 g1]\u001b[39;00m\n\u001b[0;32m    321\u001b[0m \u001b[38;5;66;03m#                 [1  1  1]   [g2 g2 g2]\u001b[39;00m\n\u001b[0;32m    322\u001b[0m \u001b[38;5;28;01mreturn\u001b[39;00m out_grad \u001b[38;5;241m*\u001b[39m array_api\u001b[38;5;241m.\u001b[39mones(input_shape,dtype\u001b[38;5;241m=\u001b[39m\u001b[38;5;124m\"\u001b[39m\u001b[38;5;124mfloat32\u001b[39m\u001b[38;5;124m\"\u001b[39m,device\u001b[38;5;241m=\u001b[39mout_grad\u001b[38;5;241m.\u001b[39mdevice)\n",
      "File \u001b[1;32md:\\AIExperienments\\TryTorch\\trytorch\\ops\\ops.py:243\u001b[0m, in \u001b[0;36mreshape\u001b[1;34m(a, shape)\u001b[0m\n\u001b[0;32m    242\u001b[0m \u001b[38;5;28;01mdef\u001b[39;00m \u001b[38;5;21mreshape\u001b[39m(a, shape):\n\u001b[1;32m--> 243\u001b[0m     \u001b[38;5;28;01mreturn\u001b[39;00m \u001b[43mReshape\u001b[49m\u001b[43m(\u001b[49m\u001b[43mshape\u001b[49m\u001b[43m)\u001b[49m\u001b[43m(\u001b[49m\u001b[43ma\u001b[49m\u001b[43m)\u001b[49m\n",
      "File \u001b[1;32md:\\AIExperienments\\TryTorch\\trytorch\\autograd.py:75\u001b[0m, in \u001b[0;36mTensorOp.__call__\u001b[1;34m(self, *args)\u001b[0m\n\u001b[0;32m     74\u001b[0m \u001b[38;5;28;01mdef\u001b[39;00m \u001b[38;5;21m__call__\u001b[39m(\u001b[38;5;28mself\u001b[39m, \u001b[38;5;241m*\u001b[39margs):\n\u001b[1;32m---> 75\u001b[0m     \u001b[38;5;28;01mreturn\u001b[39;00m \u001b[43mTensor\u001b[49m\u001b[38;5;241;43m.\u001b[39;49m\u001b[43mmake_from_op\u001b[49m\u001b[43m(\u001b[49m\u001b[38;5;28;43mself\u001b[39;49m\u001b[43m,\u001b[49m\u001b[43m \u001b[49m\u001b[43margs\u001b[49m\u001b[43m)\u001b[49m\n",
      "File \u001b[1;32md:\\AIExperienments\\TryTorch\\trytorch\\autograd.py:221\u001b[0m, in \u001b[0;36mTensor.make_from_op\u001b[1;34m(op, inputs)\u001b[0m\n\u001b[0;32m    219\u001b[0m     \u001b[38;5;28;01mif\u001b[39;00m \u001b[38;5;129;01mnot\u001b[39;00m tensor\u001b[38;5;241m.\u001b[39mrequires_grad:\n\u001b[0;32m    220\u001b[0m         \u001b[38;5;28;01mreturn\u001b[39;00m tensor\u001b[38;5;241m.\u001b[39mdetach()\n\u001b[1;32m--> 221\u001b[0m     \u001b[43mtensor\u001b[49m\u001b[38;5;241;43m.\u001b[39;49m\u001b[43mrealize_cached_data\u001b[49m\u001b[43m(\u001b[49m\u001b[43m)\u001b[49m\n\u001b[0;32m    222\u001b[0m \u001b[38;5;28;01mreturn\u001b[39;00m tensor\n",
      "File \u001b[1;32md:\\AIExperienments\\TryTorch\\trytorch\\autograd.py:109\u001b[0m, in \u001b[0;36mValue.realize_cached_data\u001b[1;34m(self)\u001b[0m\n\u001b[0;32m    102\u001b[0m     \u001b[38;5;28;01mreturn\u001b[39;00m \u001b[38;5;28mself\u001b[39m\u001b[38;5;241m.\u001b[39mcached_data\n\u001b[0;32m    104\u001b[0m \u001b[38;5;124;03m'''\u001b[39;00m\n\u001b[0;32m    105\u001b[0m \u001b[38;5;124;03m   否则需要进行计算,构建该节点到计算图中\u001b[39;00m\n\u001b[0;32m    106\u001b[0m \u001b[38;5;124;03m   '*'用于解包列表为参数送给函数\u001b[39;00m\n\u001b[0;32m    107\u001b[0m \u001b[38;5;124;03m   这里传送的是NDArray,compute中利用numpy/cupy进行运算!\u001b[39;00m\n\u001b[0;32m    108\u001b[0m \u001b[38;5;124;03m'''\u001b[39;00m\n\u001b[1;32m--> 109\u001b[0m \u001b[38;5;28mself\u001b[39m\u001b[38;5;241m.\u001b[39mcached_data \u001b[38;5;241m=\u001b[39m \u001b[38;5;28;43mself\u001b[39;49m\u001b[38;5;241;43m.\u001b[39;49m\u001b[43mop\u001b[49m\u001b[38;5;241;43m.\u001b[39;49m\u001b[43mcompute\u001b[49m\u001b[43m(\u001b[49m\n\u001b[0;32m    110\u001b[0m \u001b[43m    \u001b[49m\u001b[38;5;241;43m*\u001b[39;49m\u001b[43m[\u001b[49m\u001b[43mx\u001b[49m\u001b[38;5;241;43m.\u001b[39;49m\u001b[43mrealize_cached_data\u001b[49m\u001b[43m(\u001b[49m\u001b[43m)\u001b[49m\u001b[43m \u001b[49m\u001b[38;5;28;43;01mfor\u001b[39;49;00m\u001b[43m \u001b[49m\u001b[43mx\u001b[49m\u001b[43m \u001b[49m\u001b[38;5;129;43;01min\u001b[39;49;00m\u001b[43m \u001b[49m\u001b[38;5;28;43mself\u001b[39;49m\u001b[38;5;241;43m.\u001b[39;49m\u001b[43minputs\u001b[49m\u001b[43m]\u001b[49m\u001b[43m \u001b[49m\n\u001b[0;32m    111\u001b[0m \u001b[43m\u001b[49m\u001b[43m)\u001b[49m\n\u001b[0;32m    113\u001b[0m \u001b[38;5;28;01mreturn\u001b[39;00m \u001b[38;5;28mself\u001b[39m\u001b[38;5;241m.\u001b[39mcached_data\n",
      "File \u001b[1;32md:\\AIExperienments\\TryTorch\\trytorch\\ops\\ops.py:231\u001b[0m, in \u001b[0;36mReshape.compute\u001b[1;34m(self, a)\u001b[0m\n\u001b[0;32m    230\u001b[0m \u001b[38;5;28;01mdef\u001b[39;00m \u001b[38;5;21mcompute\u001b[39m(\u001b[38;5;28mself\u001b[39m, a: NDArray):\n\u001b[1;32m--> 231\u001b[0m     \u001b[38;5;28;01mreturn\u001b[39;00m \u001b[43marray_api\u001b[49m\u001b[38;5;241;43m.\u001b[39;49m\u001b[43mreshape\u001b[49m\u001b[43m(\u001b[49m\u001b[43ma\u001b[49m\u001b[43m,\u001b[49m\u001b[43m \u001b[49m\u001b[38;5;28;43mself\u001b[39;49m\u001b[38;5;241;43m.\u001b[39;49m\u001b[43mshape\u001b[49m\u001b[43m)\u001b[49m\n",
      "File \u001b[1;32md:\\AIExperienments\\TryTorch\\trytorch\\array_api.py:74\u001b[0m, in \u001b[0;36marray_api.reshape\u001b[1;34m(a, newshape)\u001b[0m\n\u001b[0;32m     72\u001b[0m \u001b[38;5;129m@staticmethod\u001b[39m\n\u001b[0;32m     73\u001b[0m \u001b[38;5;28;01mdef\u001b[39;00m \u001b[38;5;21mreshape\u001b[39m(a, newshape):\n\u001b[1;32m---> 74\u001b[0m     \u001b[38;5;28;01mreturn\u001b[39;00m \u001b[43marray_api\u001b[49m\u001b[38;5;241;43m.\u001b[39;49m\u001b[43m_backend_from_array\u001b[49m\u001b[43m(\u001b[49m\u001b[43ma\u001b[49m\u001b[43m)\u001b[49m\u001b[38;5;241;43m.\u001b[39;49m\u001b[43mreshape\u001b[49m\u001b[43m(\u001b[49m\u001b[43ma\u001b[49m\u001b[43m,\u001b[49m\u001b[43m \u001b[49m\u001b[43mnewshape\u001b[49m\u001b[43m)\u001b[49m\n",
      "File \u001b[1;32mc:\\Users\\GameDesign\\AppData\\Local\\Programs\\Python\\Python39\\lib\\site-packages\\numpy\\core\\fromnumeric.py:285\u001b[0m, in \u001b[0;36mreshape\u001b[1;34m(a, newshape, order)\u001b[0m\n\u001b[0;32m    200\u001b[0m \u001b[38;5;129m@array_function_dispatch\u001b[39m(_reshape_dispatcher)\n\u001b[0;32m    201\u001b[0m \u001b[38;5;28;01mdef\u001b[39;00m \u001b[38;5;21mreshape\u001b[39m(a, newshape, order\u001b[38;5;241m=\u001b[39m\u001b[38;5;124m'\u001b[39m\u001b[38;5;124mC\u001b[39m\u001b[38;5;124m'\u001b[39m):\n\u001b[0;32m    202\u001b[0m     \u001b[38;5;124;03m\"\"\"\u001b[39;00m\n\u001b[0;32m    203\u001b[0m \u001b[38;5;124;03m    Gives a new shape to an array without changing its data.\u001b[39;00m\n\u001b[0;32m    204\u001b[0m \n\u001b[1;32m   (...)\u001b[0m\n\u001b[0;32m    283\u001b[0m \u001b[38;5;124;03m           [5, 6]])\u001b[39;00m\n\u001b[0;32m    284\u001b[0m \u001b[38;5;124;03m    \"\"\"\u001b[39;00m\n\u001b[1;32m--> 285\u001b[0m     \u001b[38;5;28;01mreturn\u001b[39;00m \u001b[43m_wrapfunc\u001b[49m\u001b[43m(\u001b[49m\u001b[43ma\u001b[49m\u001b[43m,\u001b[49m\u001b[43m \u001b[49m\u001b[38;5;124;43m'\u001b[39;49m\u001b[38;5;124;43mreshape\u001b[39;49m\u001b[38;5;124;43m'\u001b[39;49m\u001b[43m,\u001b[49m\u001b[43m \u001b[49m\u001b[43mnewshape\u001b[49m\u001b[43m,\u001b[49m\u001b[43m \u001b[49m\u001b[43morder\u001b[49m\u001b[38;5;241;43m=\u001b[39;49m\u001b[43morder\u001b[49m\u001b[43m)\u001b[49m\n",
      "File \u001b[1;32mc:\\Users\\GameDesign\\AppData\\Local\\Programs\\Python\\Python39\\lib\\site-packages\\numpy\\core\\fromnumeric.py:59\u001b[0m, in \u001b[0;36m_wrapfunc\u001b[1;34m(obj, method, *args, **kwds)\u001b[0m\n\u001b[0;32m     56\u001b[0m     \u001b[38;5;28;01mreturn\u001b[39;00m _wrapit(obj, method, \u001b[38;5;241m*\u001b[39margs, \u001b[38;5;241m*\u001b[39m\u001b[38;5;241m*\u001b[39mkwds)\n\u001b[0;32m     58\u001b[0m \u001b[38;5;28;01mtry\u001b[39;00m:\n\u001b[1;32m---> 59\u001b[0m     \u001b[38;5;28;01mreturn\u001b[39;00m bound(\u001b[38;5;241m*\u001b[39margs, \u001b[38;5;241m*\u001b[39m\u001b[38;5;241m*\u001b[39mkwds)\n\u001b[0;32m     60\u001b[0m \u001b[38;5;28;01mexcept\u001b[39;00m \u001b[38;5;167;01mTypeError\u001b[39;00m:\n\u001b[0;32m     61\u001b[0m     \u001b[38;5;66;03m# A TypeError occurs if the object does have such a method in its\u001b[39;00m\n\u001b[0;32m     62\u001b[0m     \u001b[38;5;66;03m# class, but its signature is not identical to that of NumPy's. This\u001b[39;00m\n\u001b[1;32m   (...)\u001b[0m\n\u001b[0;32m     66\u001b[0m     \u001b[38;5;66;03m# Call _wrapit from within the except clause to ensure a potential\u001b[39;00m\n\u001b[0;32m     67\u001b[0m     \u001b[38;5;66;03m# exception has a traceback chain.\u001b[39;00m\n\u001b[0;32m     68\u001b[0m     \u001b[38;5;28;01mreturn\u001b[39;00m _wrapit(obj, method, \u001b[38;5;241m*\u001b[39margs, \u001b[38;5;241m*\u001b[39m\u001b[38;5;241m*\u001b[39mkwds)\n",
      "\u001b[1;31mValueError\u001b[0m: cannot reshape array of size 65536 into shape (1,64)"
     ]
    }
   ],
   "source": [
    "for epoch in range(epochs):\n",
    "    total_loss = 0\n",
    "    total_rights = 0\n",
    "    total_examples = 0\n",
    "    total_batches = 0\n",
    "    for inputs, label in train_dataloader:\n",
    "        \n",
    "        net.train()\n",
    "        \n",
    "        optimizer.reset_grad()\n",
    "\n",
    "        pred = net(inputs)\n",
    "\n",
    "        loss = criterion(pred, label)\n",
    "\n",
    "        loss.backward()\n",
    "\n",
    "        optimizer.step()\n",
    "        # (batch, features) -> (batch, 1)\n",
    "        label_pred = np.argmax(pred.numpy(), axis = 1)\n",
    "\n",
    "        rights = np.equal(label_pred, label.numpy()).sum()\n",
    "\n",
    "        total_loss += loss.numpy()\n",
    "        total_rights += rights\n",
    "        total_batches += 1\n",
    "        total_examples += inputs.shape[0]\n",
    "\n",
    "    avg_loss = total_loss / total_batches\n",
    "    avg_accuracy = total_rights / total_examples\n",
    "    print(f\"EPOCH {epoch}: {avg_accuracy=}, {avg_loss=}\")\n",
    "\n"
   ]
  }
 ],
 "metadata": {
  "kernelspec": {
   "display_name": "Python 3",
   "language": "python",
   "name": "python3"
  },
  "language_info": {
   "codemirror_mode": {
    "name": "ipython",
    "version": 3
   },
   "file_extension": ".py",
   "mimetype": "text/x-python",
   "name": "python",
   "nbconvert_exporter": "python",
   "pygments_lexer": "ipython3",
   "version": "3.9.0"
  }
 },
 "nbformat": 4,
 "nbformat_minor": 5
}
