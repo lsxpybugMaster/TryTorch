{
 "cells": [
  {
   "cell_type": "code",
   "execution_count": 1,
   "id": "81f14dbb",
   "metadata": {},
   "outputs": [],
   "source": [
    "import sys\n",
    "import os\n",
    "\n",
    "# 获取当前工作目录\n",
    "# Trytorch\\test\n",
    "current_dir = os.getcwd()\n",
    "\n",
    "# 获取父目录\n",
    "# Trytorch\n",
    "project_dir = os.path.dirname(current_dir)\n",
    "\n",
    "# 现在的路径即为项目根路径,可以找到主包trytorch\n",
    "sys.path.append(project_dir)"
   ]
  },
  {
   "cell_type": "code",
   "execution_count": 4,
   "id": "0a5cdee1",
   "metadata": {},
   "outputs": [
    {
     "name": "stdout",
     "output_type": "stream",
     "text": [
      "tensor([[[1. 0. 2. 0.]\n",
      "  [0. 0. 0. 0.]\n",
      "  [3. 0. 4. 0.]\n",
      "  [0. 0. 0. 0.]]], dtpye=float32)\n",
      "compact array : <class 'numpy.ndarray'>\n"
     ]
    },
    {
     "data": {
      "text/plain": [
       "tensor([[[1. 2.]\n",
       "  [3. 4.]]], dtpye=float32)"
      ]
     },
     "execution_count": 4,
     "metadata": {},
     "output_type": "execute_result"
    }
   ],
   "source": [
    "import trytorch as torch\n",
    "from trytorch import ops\n",
    "from trytorch.array_api import array_api \n",
    "\n",
    "a = torch.Tensor(array_api.arange(1,5).reshape(1,2,2),requires_grad=False)\n",
    "dilate_a = ops.dilate(a,(1,2),1)\n",
    "print(dilate_a)\n",
    "undilate_b = ops.undilate(dilate_a,(1, 2), 1)\n",
    "\n",
    "undilate_b\n",
    "\n"
   ]
  },
  {
   "cell_type": "code",
   "execution_count": null,
   "id": "c896826d",
   "metadata": {},
   "outputs": [
    {
     "name": "stdout",
     "output_type": "stream",
     "text": [
      "compact array : <class 'numpy.ndarray'>\n",
      "tensor([[1 2]\n",
      " [3 4]], dtpye=int32)\n"
     ]
    }
   ],
   "source": []
  }
 ],
 "metadata": {
  "kernelspec": {
   "display_name": "Python 3",
   "language": "python",
   "name": "python3"
  },
  "language_info": {
   "codemirror_mode": {
    "name": "ipython",
    "version": 3
   },
   "file_extension": ".py",
   "mimetype": "text/x-python",
   "name": "python",
   "nbconvert_exporter": "python",
   "pygments_lexer": "ipython3",
   "version": "3.9.0"
  }
 },
 "nbformat": 4,
 "nbformat_minor": 5
}
