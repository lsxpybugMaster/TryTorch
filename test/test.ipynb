{
 "cells": [
  {
   "cell_type": "markdown",
   "id": "0101e1e8",
   "metadata": {},
   "source": [
    "### 获取根路径\n",
    "* 方便测试"
   ]
  },
  {
   "cell_type": "code",
   "execution_count": 1,
   "id": "4a956f20",
   "metadata": {},
   "outputs": [
    {
     "name": "stderr",
     "output_type": "stream",
     "text": [
      "c:\\Users\\GameDesign\\AppData\\Local\\Programs\\Python\\Python39\\lib\\site-packages\\cupy\\_environment.py:215: UserWarning: CUDA path could not be detected. Set CUDA_PATH environment variable if CuPy fails to load.\n",
      "  warnings.warn(\n",
      "c:\\Users\\GameDesign\\AppData\\Local\\Programs\\Python\\Python39\\lib\\site-packages\\scipy\\__init__.py:146: UserWarning: A NumPy version >=1.17.3 and <1.25.0 is required for this version of SciPy (detected version 1.26.3\n",
      "  warnings.warn(f\"A NumPy version >={np_minversion} and <{np_maxversion}\"\n"
     ]
    }
   ],
   "source": [
    "import sys\n",
    "import os\n",
    "\n",
    "# 获取当前工作目录\n",
    "# Trytorch\\test\n",
    "current_dir = os.getcwd()\n",
    "\n",
    "# 获取父目录\n",
    "# Trytorch\n",
    "project_dir = os.path.dirname(current_dir)\n",
    "\n",
    "# 现在的路径即为项目根路径,可以找到主包trytorch\n",
    "sys.path.append(project_dir)\n",
    "\n",
    "import trytorch as torch\n",
    "import numpy as np\n",
    "import torch as pytorch\n",
    "from trytorch import ops"
   ]
  },
  {
   "cell_type": "code",
   "execution_count": 5,
   "id": "e03493b2",
   "metadata": {},
   "outputs": [
    {
     "data": {
      "text/plain": [
       "(tensor([[1 1 1]\n",
       "  [1 1 1]\n",
       "  [1 1 1]\n",
       "  [1 1 1]], dtpye=int32),\n",
       " tensor([[4 4 4]], dtpye=int32))"
      ]
     },
     "execution_count": 5,
     "metadata": {},
     "output_type": "execute_result"
    }
   ],
   "source": [
    "###################################################################### \n",
    "# 广播测试\n",
    "######################################################################\n",
    "a = torch.Tensor([[1,2,3]], device=None,dtype=int)\n",
    "b = a.broadcast_to((4,3))\n",
    "b.backward()\n",
    "b.grad, a.grad, "
   ]
  },
  {
   "cell_type": "code",
   "execution_count": 7,
   "id": "53209baf",
   "metadata": {},
   "outputs": [
    {
     "data": {
      "text/plain": [
       "(tensor([[ 6. 10. 14.]\n",
       "  [ 6. 10. 14.]], dtpye=float64),\n",
       " tensor([[3. 3.]\n",
       "  [5. 5.]\n",
       "  [7. 7.]], dtpye=float64))"
      ]
     },
     "execution_count": 7,
     "metadata": {},
     "output_type": "execute_result"
    }
   ],
   "source": [
    "###################################################################### \n",
    "# 矩阵乘法测试\n",
    "######################################################################\n",
    "\n",
    "_ = torch.Tensor(pytorch.arange(0,6.0))\n",
    "A = _.reshape((2,3))\n",
    "B = A.transpose((-1,-2))\n",
    "C = A @ B\n",
    "\n",
    "loss = C.sum()\n",
    "loss.backward()\n",
    "A.grad, B.grad"
   ]
  },
  {
   "cell_type": "code",
   "execution_count": 8,
   "id": "1e6495f7",
   "metadata": {},
   "outputs": [
    {
     "name": "stderr",
     "output_type": "stream",
     "text": [
      "C:\\Users\\GameDesign\\AppData\\Local\\Temp\\ipykernel_20232\\3948603456.py:2: UserWarning: To copy construct from a tensor, it is recommended to use sourceTensor.detach().clone() or sourceTensor.detach().clone().requires_grad_(True), rather than torch.tensor(sourceTensor).\n",
      "  _ = pytorch.tensor(pytorch.arange(0,6.0),requires_grad=True)\n"
     ]
    },
    {
     "data": {
      "text/plain": [
       "(tensor([[3., 5., 7.],\n",
       "         [3., 5., 7.]], dtype=torch.float64),\n",
       " tensor([[3., 3.],\n",
       "         [5., 5.],\n",
       "         [7., 7.]], dtype=torch.float64))"
      ]
     },
     "execution_count": 8,
     "metadata": {},
     "output_type": "execute_result"
    }
   ],
   "source": [
    "## pytorch\n",
    "_ = pytorch.tensor(pytorch.arange(0,6.0),requires_grad=True)\n",
    "# A = _.reshape(2,3)\n",
    "# B = A.T\n",
    "A = pytorch.tensor(np.arange(0,6.0).reshape(2,3),requires_grad=True)\n",
    "B = pytorch.tensor(np.arange(0,6.0).reshape(2,3).T,requires_grad=True)\n",
    "C = A @ B\n",
    "\n",
    "A.retain_grad()\n",
    "B.retain_grad()\n",
    "\n",
    "# PyTorch 的 backward() 函数默认只能对标量输出计算梯度\n",
    "loss = C.sum()\n",
    "loss.backward()\n",
    "A.grad, B.grad"
   ]
  },
  {
   "cell_type": "code",
   "execution_count": 2,
   "id": "47a24a6e",
   "metadata": {},
   "outputs": [
    {
     "name": "stdout",
     "output_type": "stream",
     "text": [
      "\n",
      "----------------------grads--------------------\n",
      "v4.grad: tensor(1.0, dtpye=float64)\n",
      "v3.grad: tensor(2.718281828459045, dtpye=float64)\n",
      "v2.grad: tensor(6.43656365691809, dtpye=float64)\n",
      "v1.grad: tensor(17.496394026320345, dtpye=float64)\n"
     ]
    }
   ],
   "source": [
    "###################################################################### \n",
    "# 自动求导测试\n",
    "######################################################################\n",
    "\n",
    "# 前向计算\n",
    "val = 1\n",
    "\n",
    "v1 = torch.Tensor(val, device=None,dtype=int)\n",
    "v2 = ops.exp(v1)\n",
    "v3 = v2 + 1\n",
    "v4 = v2 * v3\n",
    "y = v4\n",
    "\n",
    "# 反向传播\n",
    "y.backward()\n",
    "print()\n",
    "print(\"----------------------grads--------------------\")\n",
    "print(\"v4.grad:\", v4.grad)  # dy/dv4 = 1\n",
    "print(\"v3.grad:\", v3.grad)  # dy/dv3\n",
    "print(\"v2.grad:\", v2.grad)  # dy/dv2\n",
    "print(\"v1.grad:\", v1.grad)  # dy/dv1"
   ]
  },
  {
   "cell_type": "code",
   "execution_count": null,
   "id": "26973a94",
   "metadata": {},
   "outputs": [],
   "source": [
    "val = 1\n",
    "\n",
    "# 前向\n",
    "v1 = pytorch.tensor(val, device=None,dtype=float,requires_grad=True)\n",
    "v2 = pytorch.exp(v1)\n",
    "v3 = v2 + 1\n",
    "v4 = v2 * v3\n",
    "y = v4\n",
    "print(\"y:\", y)\n",
    "\n",
    "# 反向\n",
    "# 保留中间变量的梯度\n",
    "v2.retain_grad()\n",
    "v3.retain_grad()\n",
    "v4.retain_grad()\n",
    "y.backward()\n",
    "\n",
    "print(\"---------------grads---------------\")\n",
    "print(\"v4.grad:\", v4.grad)  # dy/dv4 = 1\n",
    "print(\"v3.grad:\", v3.grad)  # dy/dv3\n",
    "print(\"v2.grad:\", v2.grad)  # dy/dv2\n",
    "print(\"v1.grad:\", v1.grad)  # dy/dv1"
   ]
  }
 ],
 "metadata": {
  "kernelspec": {
   "display_name": "Python 3",
   "language": "python",
   "name": "python3"
  },
  "language_info": {
   "codemirror_mode": {
    "name": "ipython",
    "version": 3
   },
   "file_extension": ".py",
   "mimetype": "text/x-python",
   "name": "python",
   "nbconvert_exporter": "python",
   "pygments_lexer": "ipython3",
   "version": "3.9.0"
  }
 },
 "nbformat": 4,
 "nbformat_minor": 5
}
