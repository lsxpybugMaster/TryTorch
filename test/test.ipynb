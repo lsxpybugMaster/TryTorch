{
 "cells": [
  {
   "cell_type": "markdown",
   "id": "0101e1e8",
   "metadata": {},
   "source": [
    "### 获取根路径\n",
    "* 方便测试"
   ]
  },
  {
   "cell_type": "code",
   "execution_count": 1,
   "id": "4a956f20",
   "metadata": {},
   "outputs": [
    {
     "name": "stderr",
     "output_type": "stream",
     "text": [
      "c:\\Users\\GameDesign\\AppData\\Local\\Programs\\Python\\Python39\\lib\\site-packages\\cupy\\_environment.py:215: UserWarning: CUDA path could not be detected. Set CUDA_PATH environment variable if CuPy fails to load.\n",
      "  warnings.warn(\n",
      "c:\\Users\\GameDesign\\AppData\\Local\\Programs\\Python\\Python39\\lib\\site-packages\\scipy\\__init__.py:146: UserWarning: A NumPy version >=1.17.3 and <1.25.0 is required for this version of SciPy (detected version 1.26.3\n",
      "  warnings.warn(f\"A NumPy version >={np_minversion} and <{np_maxversion}\"\n"
     ]
    }
   ],
   "source": [
    "import sys\n",
    "import os\n",
    "# 获取当前工作目录\n",
    "# Trytorch\\test\n",
    "current_dir = os.getcwd()\n",
    "# 获取父目录\n",
    "# Trytorch\n",
    "project_dir = os.path.dirname(current_dir)\n",
    "# 现在的路径即为项目根路径,可以找到主包trytorch\n",
    "sys.path.append(project_dir)\n",
    "\n",
    "\n",
    "import numpy as np\n",
    "\n",
    "\n",
    "import trytorch as torch\n",
    "from trytorch import ops\n",
    "from trytorch import init\n",
    "from trytorch import nn"
   ]
  },
  {
   "cell_type": "code",
   "execution_count": 3,
   "id": "222c4555",
   "metadata": {},
   "outputs": [
    {
     "name": "stdout",
     "output_type": "stream",
     "text": [
      "{'training': True, 'Flatten': <trytorch.nn.nn.Flatten object at 0x000002584059B580>, 'Linear1': <trytorch.nn.nn.Linear object at 0x000002584059BF70>, 'f1': <trytorch.nn.nn.ReLU object at 0x000002584059B880>, 'Linear2': <trytorch.nn.nn.Linear object at 0x000002584059BE80>}\n"
     ]
    }
   ],
   "source": [
    "class TryNet(nn.Module):\n",
    "    def __init__(self,fin,fhid,fclass):\n",
    "        super().__init__()\n",
    "        self.Flatten = nn.Flatten()\n",
    "        self.Linear1 = nn.Linear(fin,fhid)\n",
    "        self.f1 = nn.ReLU()\n",
    "        self.Linear2 = nn.Linear(fhid,fclass)\n",
    "\n",
    "    def forward(self, x):\n",
    "        x = self.Flatten(x)\n",
    "        x = self.Linear1(x)\n",
    "        x = self.f1(x)\n",
    "        x = self.Linear1(x)\n",
    "\n",
    "nt = TryNet(3,5,2)\n",
    "print(nt)"
   ]
  },
  {
   "cell_type": "code",
   "execution_count": 2,
   "id": "1e45d102",
   "metadata": {},
   "outputs": [
    {
     "data": {
      "text/plain": [
       "(tensor([[ 0.99486625  1.1838446   0.71551657  0.46399543]\n",
       "  [ 0.75924844 -0.9497253   0.5305862  -1.3494016 ]\n",
       "  [ 0.64362353 -1.3410091  -0.704432   -0.84754986]], dtpye=float32),\n",
       " tensor([[ 0.30923706  0.36427802 -0.799866    0.3997933 ]\n",
       "  [ 0.11338341 -0.4254143   0.23471844  0.8686739 ]\n",
       "  [-0.19285916 -0.28480503 -0.25579557  0.1547388 ]], dtpye=float32))"
      ]
     },
     "execution_count": 2,
     "metadata": {},
     "output_type": "execute_result"
    }
   ],
   "source": [
    "# init.rand(3,4,low=100,high=1000)\n",
    "a = torch.Tensor([2,3,4])\n",
    "init.kaiming_uniform(3,4),init.xavier_uniform(3,4)"
   ]
  },
  {
   "cell_type": "code",
   "execution_count": 15,
   "id": "08b80d29",
   "metadata": {},
   "outputs": [
    {
     "name": "stdout",
     "output_type": "stream",
     "text": [
      "{'a': True}\n",
      "{'a': True, 'c': 6, 'd': 7}\n",
      "True\n",
      "True\n",
      "False\n"
     ]
    }
   ],
   "source": [
    "class A:\n",
    "    def __init__(self):\n",
    "        self.a = True     \n",
    "        pass\n",
    "\n",
    "    def print(self):\n",
    "        print(self.__dict__)\n",
    "\n",
    "class B(A):\n",
    "    def __init__(self,**kwargs):\n",
    "        super().__init__()\n",
    "        for key, value in kwargs.items():\n",
    "            setattr(self, key, value)\n",
    "\n",
    "\n",
    "\n",
    "\n",
    "a = A()\n",
    "a.print()\n",
    "b = B(c = 6, d = 7)\n",
    "b.print()\n",
    "\n",
    "print(isinstance(b,B))\n",
    "print(isinstance(b,A))\n",
    "print(isinstance(a,B))"
   ]
  }
 ],
 "metadata": {
  "kernelspec": {
   "display_name": "Python 3",
   "language": "python",
   "name": "python3"
  },
  "language_info": {
   "codemirror_mode": {
    "name": "ipython",
    "version": 3
   },
   "file_extension": ".py",
   "mimetype": "text/x-python",
   "name": "python",
   "nbconvert_exporter": "python",
   "pygments_lexer": "ipython3",
   "version": "3.9.0"
  }
 },
 "nbformat": 4,
 "nbformat_minor": 5
}
