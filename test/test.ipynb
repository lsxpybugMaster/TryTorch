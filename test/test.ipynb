{
 "cells": [
  {
   "cell_type": "markdown",
   "id": "0101e1e8",
   "metadata": {},
   "source": [
    "### 获取根路径\n",
    "* 方便测试"
   ]
  },
  {
   "cell_type": "code",
   "execution_count": 2,
   "id": "4a956f20",
   "metadata": {},
   "outputs": [
    {
     "name": "stderr",
     "output_type": "stream",
     "text": [
      "c:\\Users\\GameDesign\\AppData\\Local\\Programs\\Python\\Python39\\lib\\site-packages\\cupy\\_environment.py:215: UserWarning: CUDA path could not be detected. Set CUDA_PATH environment variable if CuPy fails to load.\n",
      "  warnings.warn(\n"
     ]
    }
   ],
   "source": [
    "import sys\n",
    "import os\n",
    "# 获取当前工作目录\n",
    "# Trytorch\\test\n",
    "current_dir = os.getcwd()\n",
    "# 获取父目录\n",
    "# Trytorch\n",
    "project_dir = os.path.dirname(current_dir)\n",
    "# 现在的路径即为项目根路径,可以找到主包trytorch\n",
    "sys.path.append(project_dir)\n",
    "\n",
    "\n",
    "import numpy as np\n",
    "\n",
    "\n",
    "import trytorch as torch\n",
    "from trytorch import ops\n",
    "from trytorch import init\n",
    "from trytorch import nn"
   ]
  },
  {
   "cell_type": "code",
   "execution_count": 3,
   "id": "dc87baad",
   "metadata": {},
   "outputs": [
    {
     "name": "stdout",
     "output_type": "stream",
     "text": [
      "tensor([[[[0. 1. 0. 0. 0. 0. 0. 0. 0. 0. 0. 1.]\n",
      "   [0. 0. 0. 0. 0. 0. 0. 0. 0. 0. 0. 0.]\n",
      "   [0. 0. 0. 0. 0. 0. 0. 0. 0. 0. 0. 0.]\n",
      "   [0. 0. 0. 0. 0. 0. 0. 1. 0. 0. 0. 0.]\n",
      "   [0. 0. 1. 0. 1. 0. 0. 0. 0. 0. 0. 0.]\n",
      "   [0. 0. 0. 0. 0. 0. 0. 0. 0. 1. 0. 0.]\n",
      "   [0. 0. 0. 0. 0. 0. 0. 0. 0. 0. 0. 0.]\n",
      "   [0. 0. 0. 0. 0. 0. 0. 0. 0. 0. 0. 0.]\n",
      "   [0. 0. 0. 0. 0. 0. 0. 0. 0. 0. 0. 0.]\n",
      "   [0. 0. 0. 0. 0. 0. 0. 0. 0. 0. 0. 0.]\n",
      "   [0. 0. 0. 0. 0. 0. 0. 0. 0. 0. 0. 0.]\n",
      "   [0. 0. 1. 0. 0. 0. 0. 1. 1. 0. 0. 0.]]]], dtpye=float32)\n"
     ]
    }
   ],
   "source": [
    "np.random.seed(42)\n",
    "x_array = np.random.rand(1,1,12,12)  \n",
    "x = torch.Tensor(x_array)\n",
    "y = nn.MaxPooling2D(kernel_size=4, stride=4)(x)\n",
    "y.backward()\n",
    "print(x.grad)"
   ]
  },
  {
   "cell_type": "code",
   "execution_count": 4,
   "id": "d643d7fe",
   "metadata": {},
   "outputs": [
    {
     "name": "stdout",
     "output_type": "stream",
     "text": [
      "tensor([[[[0., 1., 0., 0., 0., 0., 0., 0., 0., 0., 0., 1.],\n",
      "          [0., 0., 0., 0., 0., 0., 0., 0., 0., 0., 0., 0.],\n",
      "          [0., 0., 0., 0., 0., 0., 0., 0., 0., 0., 0., 0.],\n",
      "          [0., 0., 0., 0., 0., 0., 0., 1., 0., 0., 0., 0.],\n",
      "          [0., 0., 1., 0., 1., 0., 0., 0., 0., 0., 0., 0.],\n",
      "          [0., 0., 0., 0., 0., 0., 0., 0., 0., 1., 0., 0.],\n",
      "          [0., 0., 0., 0., 0., 0., 0., 0., 0., 0., 0., 0.],\n",
      "          [0., 0., 0., 0., 0., 0., 0., 0., 0., 0., 0., 0.],\n",
      "          [0., 0., 0., 0., 0., 0., 0., 0., 0., 0., 0., 0.],\n",
      "          [0., 0., 0., 0., 0., 0., 0., 0., 0., 0., 0., 0.],\n",
      "          [0., 0., 0., 0., 0., 0., 0., 0., 0., 0., 0., 0.],\n",
      "          [0., 0., 1., 0., 0., 0., 0., 1., 1., 0., 0., 0.]]]],\n",
      "       dtype=torch.float64)\n"
     ]
    }
   ],
   "source": [
    "import torch as pytorch\n",
    "from torch import nn as pnn\n",
    "np.random.seed(42)\n",
    "x_array = np.random.rand(1,1,12,12)  \n",
    "x = pytorch.tensor(x_array,requires_grad=True)\n",
    "x.retain_grad()\n",
    "\n",
    "y = pnn.MaxPool2d(kernel_size=4,stride=4)(x)\n",
    "\n",
    "grad_output = pytorch.ones_like(y)\n",
    "y.backward(gradient=grad_output)\n",
    "print(x.grad)"
   ]
  },
  {
   "cell_type": "code",
   "execution_count": 8,
   "id": "9601acdd",
   "metadata": {},
   "outputs": [
    {
     "data": {
      "text/plain": [
       "(1, 1, 4, 4)"
      ]
     },
     "execution_count": 8,
     "metadata": {},
     "output_type": "execute_result"
    }
   ],
   "source": [
    "a = np.random.rand(1,4,4,1)    \n",
    "b = torch.Tensor(a)\n",
    "b = b.transpose((1,3))\n",
    "b.shape"
   ]
  },
  {
   "cell_type": "code",
   "execution_count": 7,
   "id": "5e297256",
   "metadata": {},
   "outputs": [
    {
     "name": "stdout",
     "output_type": "stream",
     "text": [
      "[[[[0.37454012 0.95071431 0.73199394 0.59865848 0.15601864 0.15599452]\n",
      "   [0.05808361 0.86617615 0.60111501 0.70807258 0.02058449 0.96990985]\n",
      "   [0.83244264 0.21233911 0.18182497 0.18340451 0.30424224 0.52475643]\n",
      "   [0.43194502 0.29122914 0.61185289 0.13949386 0.29214465 0.36636184]\n",
      "   [0.45606998 0.78517596 0.19967378 0.51423444 0.59241457 0.04645041]\n",
      "   [0.60754485 0.17052412 0.06505159 0.94888554 0.96563203 0.80839735]]]]\n",
      "[[[[0.95071431 0.96990985]\n",
      "   [0.78517596 0.96563203]]]]\n"
     ]
    },
    {
     "data": {
      "text/plain": [
       "array([[[[0., 1., 0., 0., 0., 0.],\n",
       "         [0., 0., 0., 0., 0., 1.],\n",
       "         [0., 0., 0., 0., 0., 0.],\n",
       "         [0., 0., 0., 0., 0., 0.],\n",
       "         [0., 1., 0., 0., 0., 0.],\n",
       "         [0., 0., 0., 0., 1., 0.]]]], dtype=float32)"
      ]
     },
     "execution_count": 7,
     "metadata": {},
     "output_type": "execute_result"
    }
   ],
   "source": [
    "# N,H,W,C\n",
    "np.random.seed(42)\n",
    "a = np.random.rand(1,6,6,1)     \n",
    "print(a.transpose(0,3,1,2))            \n",
    "a = torch.Tensor(a)\n",
    "b = ops.maxPooling2D(a,3,3)\n",
    "print(b.cached_data.transpose(0,3,1,2))\n",
    "b.backward()\n",
    "a.grad.cached_data.transpose(0,3,1,2)"
   ]
  },
  {
   "cell_type": "code",
   "execution_count": 6,
   "id": "9b8e446b",
   "metadata": {},
   "outputs": [
    {
     "data": {
      "text/plain": [
       "tensor([[[0. 0. 1.]\n",
       "  [0. 0. 0.]\n",
       "  [0. 0. 0.]]\n",
       "\n",
       " [[0. 0. 0.]\n",
       "  [0. 0. 0.]\n",
       "  [0. 0. 0.]]], dtpye=float32)"
      ]
     },
     "execution_count": 6,
     "metadata": {},
     "output_type": "execute_result"
    }
   ],
   "source": [
    "init.randb(2,3,3,p = 0.05,dtype=\"float32\")"
   ]
  },
  {
   "cell_type": "code",
   "execution_count": 2,
   "id": "dbf51228",
   "metadata": {},
   "outputs": [
    {
     "data": {
      "text/plain": [
       "tensor([[-1.04313887 -0.25883405  1.69428946]\n",
       " [ 0.94434811 -0.46367483 -0.22585502]\n",
       " [ 1.05314787  1.67594423 -0.73829412]\n",
       " [-0.95435711 -0.95343535 -0.73014031]], dtpye=float64)"
      ]
     },
     "execution_count": 2,
     "metadata": {},
     "output_type": "execute_result"
    }
   ],
   "source": [
    "\n",
    "np.random.seed(42)\n",
    "x = torch.Tensor(np.random.randn(4, 3))  # batch=4, dim=3\n",
    "\n",
    "bn1 = nn.BatchNorm1d(3)\n",
    "\n",
    "out1 = bn1.forward(x)\n",
    "\n",
    "out1"
   ]
  },
  {
   "cell_type": "code",
   "execution_count": 3,
   "id": "222c4555",
   "metadata": {},
   "outputs": [
    {
     "name": "stdout",
     "output_type": "stream",
     "text": [
      "{'training': True, 'Flatten': <trytorch.nn.nn.Flatten object at 0x000002584059B580>, 'Linear1': <trytorch.nn.nn.Linear object at 0x000002584059BF70>, 'f1': <trytorch.nn.nn.ReLU object at 0x000002584059B880>, 'Linear2': <trytorch.nn.nn.Linear object at 0x000002584059BE80>}\n"
     ]
    }
   ],
   "source": [
    "class TryNet(nn.Module):\n",
    "    def __init__(self,fin,fhid,fclass):\n",
    "        super().__init__()\n",
    "        self.Flatten = nn.Flatten()\n",
    "        self.Linear1 = nn.Linear(fin,fhid)\n",
    "        self.f1 = nn.ReLU()\n",
    "        self.Linear2 = nn.Linear(fhid,fclass)\n",
    "\n",
    "    def forward(self, x):\n",
    "        x = self.Flatten(x)\n",
    "        x = self.Linear1(x)\n",
    "        x = self.f1(x)\n",
    "        x = self.Linear1(x)\n",
    "\n",
    "nt = TryNet(3,5,2)\n",
    "print(nt)"
   ]
  },
  {
   "cell_type": "code",
   "execution_count": 2,
   "id": "1e45d102",
   "metadata": {},
   "outputs": [
    {
     "data": {
      "text/plain": [
       "(tensor([[ 0.99486625  1.1838446   0.71551657  0.46399543]\n",
       "  [ 0.75924844 -0.9497253   0.5305862  -1.3494016 ]\n",
       "  [ 0.64362353 -1.3410091  -0.704432   -0.84754986]], dtpye=float32),\n",
       " tensor([[ 0.30923706  0.36427802 -0.799866    0.3997933 ]\n",
       "  [ 0.11338341 -0.4254143   0.23471844  0.8686739 ]\n",
       "  [-0.19285916 -0.28480503 -0.25579557  0.1547388 ]], dtpye=float32))"
      ]
     },
     "execution_count": 2,
     "metadata": {},
     "output_type": "execute_result"
    }
   ],
   "source": [
    "# init.rand(3,4,low=100,high=1000)\n",
    "a = torch.Tensor([2,3,4])\n",
    "init.kaiming_uniform(3,4),init.xavier_uniform(3,4)"
   ]
  },
  {
   "cell_type": "code",
   "execution_count": 15,
   "id": "08b80d29",
   "metadata": {},
   "outputs": [
    {
     "name": "stdout",
     "output_type": "stream",
     "text": [
      "{'a': True}\n",
      "{'a': True, 'c': 6, 'd': 7}\n",
      "True\n",
      "True\n",
      "False\n"
     ]
    }
   ],
   "source": [
    "class A:\n",
    "    def __init__(self):\n",
    "        self.a = True     \n",
    "        pass\n",
    "\n",
    "    def print(self):\n",
    "        print(self.__dict__)\n",
    "\n",
    "class B(A):\n",
    "    def __init__(self,**kwargs):\n",
    "        super().__init__()\n",
    "        for key, value in kwargs.items():\n",
    "            setattr(self, key, value)\n",
    "\n",
    "\n",
    "\n",
    "\n",
    "a = A()\n",
    "a.print()\n",
    "b = B(c = 6, d = 7)\n",
    "b.print()\n",
    "\n",
    "print(isinstance(b,B))\n",
    "print(isinstance(b,A))\n",
    "print(isinstance(a,B))"
   ]
  }
 ],
 "metadata": {
  "kernelspec": {
   "display_name": "Python 3",
   "language": "python",
   "name": "python3"
  },
  "language_info": {
   "codemirror_mode": {
    "name": "ipython",
    "version": 3
   },
   "file_extension": ".py",
   "mimetype": "text/x-python",
   "name": "python",
   "nbconvert_exporter": "python",
   "pygments_lexer": "ipython3",
   "version": "3.9.0"
  }
 },
 "nbformat": 4,
 "nbformat_minor": 5
}
